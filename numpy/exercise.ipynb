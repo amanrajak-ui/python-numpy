{
 "cells": [
  {
   "cell_type": "markdown",
   "id": "c7325c77",
   "metadata": {},
   "source": [
    "Valid Sudoku"
   ]
  },
  {
   "cell_type": "code",
   "execution_count": 1,
   "id": "9dd8abe9",
   "metadata": {},
   "outputs": [],
   "source": [
    "import numpy as np"
   ]
  },
  {
   "cell_type": "code",
   "execution_count": 31,
   "id": "7fe5be31",
   "metadata": {},
   "outputs": [],
   "source": [
    "s = np.array([\n",
    "    [5, 3, 4, 6, 7, 8, 9, 1, 2],\n",
    "    [6, 7, 2, 1, 9, 5, 3, 4, 8],\n",
    "    [1, 9, 8, 3, 4, 2, 5, 6, 7],\n",
    "    \n",
    "    [8, 5, 9, 7, 6, 1, 4, 2, 3],\n",
    "    [4, 2, 6, 8, 5, 3, 7, 9, 1],\n",
    "    [7, 1, 3, 9, 2, 4, 8, 5, 6],\n",
    "    \n",
    "    [9, 6, 1, 5, 3, 7, 2, 8, 4],\n",
    "    [2, 8, 7, 4, 1, 9, 6, 3, 5],\n",
    "    [3, 4, 5, 2, 8, 6, 1, 7, 9]\n",
    "])"
   ]
  },
  {
   "cell_type": "code",
   "execution_count": 32,
   "id": "b0cf1b84",
   "metadata": {},
   "outputs": [
    {
     "data": {
      "text/plain": [
       "np.int64(405)"
      ]
     },
     "execution_count": 32,
     "metadata": {},
     "output_type": "execute_result"
    }
   ],
   "source": [
    "s.sum()"
   ]
  },
  {
   "cell_type": "code",
   "execution_count": 33,
   "id": "7c4938e4",
   "metadata": {},
   "outputs": [
    {
     "data": {
      "text/plain": [
       "array([45, 45, 45, 45, 45, 45, 45, 45, 45])"
      ]
     },
     "execution_count": 33,
     "metadata": {},
     "output_type": "execute_result"
    }
   ],
   "source": [
    "b=np.sum(s,axis=1)\n",
    "\n",
    "b[b==45]\n"
   ]
  },
  {
   "cell_type": "code",
   "execution_count": 34,
   "metadata": {},
   "outputs": [
    {
     "data": {
      "text/plain": [
       "array([ True,  True,  True,  True,  True,  True,  True,  True,  True])"
      ]
     },
     "execution_count": 34,
     "metadata": {},
     "output_type": "execute_result"
    }
   ],
   "source": [
    "b==45"
   ]
  },
  {
   "cell_type": "code",
   "execution_count": 35,
   "id": "d6fc3353",
   "metadata": {},
   "outputs": [
    {
     "name": "stdout",
     "output_type": "stream",
     "text": [
      "45\n",
      "45\n",
      "45\n",
      "45\n",
      "45\n",
      "45\n",
      "45\n",
      "45\n",
      "45\n"
     ]
    }
   ],
   "source": [
    "for i in b :\n",
    "    print(i)"
   ]
  },
  {
   "cell_type": "code",
   "execution_count": 43,
   "id": "1544b5ba",
   "metadata": {},
   "outputs": [
    {
     "name": "stdout",
     "output_type": "stream",
     "text": [
      "valid for row \n",
      "valid for row \n",
      "valid for row \n",
      "valid for row \n",
      "valid for row \n",
      "valid for row \n",
      "valid for row \n",
      "valid for row \n",
      "valid for row \n"
     ]
    }
   ],
   "source": [
    "for i in b :\n",
    "    if(i!=45):\n",
    "        print(\"not valid\")\n",
    "        break\n",
    "    else:\n",
    "        print(\"valid for row \")"
   ]
  },
  {
   "cell_type": "code",
   "execution_count": 40,
   "id": "fd18590a",
   "metadata": {},
   "outputs": [
    {
     "data": {
      "text/plain": [
       "array([45, 45, 45, 45, 45, 45, 45, 45, 45])"
      ]
     },
     "execution_count": 40,
     "metadata": {},
     "output_type": "execute_result"
    }
   ],
   "source": [
    "c=np.sum(s,axis=0)\n",
    "c"
   ]
  },
  {
   "cell_type": "code",
   "execution_count": 41,
   "id": "42745fc4",
   "metadata": {},
   "outputs": [
    {
     "data": {
      "text/plain": [
       "array([ True,  True,  True,  True,  True,  True,  True,  True,  True])"
      ]
     },
     "execution_count": 41,
     "metadata": {},
     "output_type": "execute_result"
    }
   ],
   "source": [
    "c==45"
   ]
  },
  {
   "cell_type": "code",
   "execution_count": 44,
   "id": "b4274ed5",
   "metadata": {},
   "outputs": [
    {
     "name": "stdout",
     "output_type": "stream",
     "text": [
      "valid sudoco for column\n",
      "valid sudoco for column\n",
      "valid sudoco for column\n",
      "valid sudoco for column\n",
      "valid sudoco for column\n",
      "valid sudoco for column\n",
      "valid sudoco for column\n",
      "valid sudoco for column\n",
      "valid sudoco for column\n"
     ]
    }
   ],
   "source": [
    "for i in c :\n",
    "    if(i!=45):\n",
    "        print(\"invalid sudoco\")\n",
    "        break\n",
    "    else:\n",
    "        print(\"valid sudoco for column\")\n",
    "        \n",
    "        \n",
    "    "
   ]
  },
  {
   "cell_type": "code",
   "execution_count": 45,
   "id": "6009759e",
   "metadata": {},
   "outputs": [
    {
     "data": {
      "text/plain": [
       "array([[5, 3, 4, 6, 7, 8, 9, 1, 2],\n",
       "       [6, 7, 2, 1, 9, 5, 3, 4, 8],\n",
       "       [1, 9, 8, 3, 4, 2, 5, 6, 7],\n",
       "       [8, 5, 9, 7, 6, 1, 4, 2, 3],\n",
       "       [4, 2, 6, 8, 5, 3, 7, 9, 1],\n",
       "       [7, 1, 3, 9, 2, 4, 8, 5, 6],\n",
       "       [9, 6, 1, 5, 3, 7, 2, 8, 4],\n",
       "       [2, 8, 7, 4, 1, 9, 6, 3, 5],\n",
       "       [3, 4, 5, 2, 8, 6, 1, 7, 9]])"
      ]
     },
     "execution_count": 45,
     "metadata": {},
     "output_type": "execute_result"
    }
   ],
   "source": [
    "s[:]"
   ]
  },
  {
   "cell_type": "code",
   "execution_count": 47,
   "id": "26e8613d",
   "metadata": {},
   "outputs": [
    {
     "data": {
      "text/plain": [
       "array([[5, 3, 4],\n",
       "       [6, 7, 2],\n",
       "       [1, 9, 8]])"
      ]
     },
     "execution_count": 47,
     "metadata": {},
     "output_type": "execute_result"
    }
   ],
   "source": [
    "d= s[0:3,0:3]\n",
    "d"
   ]
  },
  {
   "cell_type": "code",
   "execution_count": 48,
   "id": "01be783b",
   "metadata": {},
   "outputs": [
    {
     "data": {
      "text/plain": [
       "array([[5, 3, 4],\n",
       "       [6, 7, 2],\n",
       "       [1, 9, 8]])"
      ]
     },
     "execution_count": 48,
     "metadata": {},
     "output_type": "execute_result"
    }
   ],
   "source": [
    "d"
   ]
  },
  {
   "cell_type": "code",
   "execution_count": 49,
   "id": "cd12e201",
   "metadata": {},
   "outputs": [
    {
     "data": {
      "text/plain": [
       "array([12, 15, 18])"
      ]
     },
     "execution_count": 49,
     "metadata": {},
     "output_type": "execute_result"
    }
   ],
   "source": [
    "np.sum(d,axis=1)"
   ]
  },
  {
   "cell_type": "code",
   "execution_count": 50,
   "id": "ba93c6b8",
   "metadata": {},
   "outputs": [
    {
     "data": {
      "text/plain": [
       "np.int64(45)"
      ]
     },
     "execution_count": 50,
     "metadata": {},
     "output_type": "execute_result"
    }
   ],
   "source": [
    "np.sum(d)"
   ]
  },
  {
   "cell_type": "code",
   "execution_count": 51,
   "id": "ef402bc7",
   "metadata": {},
   "outputs": [
    {
     "data": {
      "text/plain": [
       "array([12, 19, 14])"
      ]
     },
     "execution_count": 51,
     "metadata": {},
     "output_type": "execute_result"
    }
   ],
   "source": [
    "np.sum(d,axis=0)"
   ]
  },
  {
   "cell_type": "code",
   "execution_count": 52,
   "id": "7b264614",
   "metadata": {},
   "outputs": [
    {
     "data": {
      "text/plain": [
       "array([[6, 7, 8],\n",
       "       [1, 9, 5],\n",
       "       [3, 4, 2]])"
      ]
     },
     "execution_count": 52,
     "metadata": {},
     "output_type": "execute_result"
    }
   ],
   "source": [
    "s[0:3,3:6]"
   ]
  },
  {
   "cell_type": "code",
   "execution_count": 53,
   "id": "267aacf8",
   "metadata": {},
   "outputs": [
    {
     "data": {
      "text/plain": [
       "array([[9, 1, 2],\n",
       "       [3, 4, 8],\n",
       "       [5, 6, 7]])"
      ]
     },
     "execution_count": 53,
     "metadata": {},
     "output_type": "execute_result"
    }
   ],
   "source": [
    "s[0:3,6:]"
   ]
  },
  {
   "cell_type": "code",
   "execution_count": 54,
   "id": "8d932f97",
   "metadata": {},
   "outputs": [
    {
     "data": {
      "text/plain": [
       "array([[5, 3, 4, 6, 7, 8, 9, 1, 2],\n",
       "       [6, 7, 2, 1, 9, 5, 3, 4, 8],\n",
       "       [1, 9, 8, 3, 4, 2, 5, 6, 7],\n",
       "       [8, 5, 9, 7, 6, 1, 4, 2, 3],\n",
       "       [4, 2, 6, 8, 5, 3, 7, 9, 1],\n",
       "       [7, 1, 3, 9, 2, 4, 8, 5, 6],\n",
       "       [9, 6, 1, 5, 3, 7, 2, 8, 4],\n",
       "       [2, 8, 7, 4, 1, 9, 6, 3, 5],\n",
       "       [3, 4, 5, 2, 8, 6, 1, 7, 9]])"
      ]
     },
     "execution_count": 54,
     "metadata": {},
     "output_type": "execute_result"
    }
   ],
   "source": [
    "s[:]"
   ]
  },
  {
   "cell_type": "code",
   "execution_count": 55,
   "id": "f0fcaded",
   "metadata": {},
   "outputs": [
    {
     "name": "stdout",
     "output_type": "stream",
     "text": [
      "[[5 3 4]\n",
      " [6 7 2]\n",
      " [1 9 8]]\n",
      "[[6 7 8]\n",
      " [1 9 5]\n",
      " [3 4 2]]\n",
      "[[9 1 2]\n",
      " [3 4 8]\n",
      " [5 6 7]]\n",
      "[[8 5 9]\n",
      " [4 2 6]\n",
      " [7 1 3]]\n",
      "[[7 6 1]\n",
      " [8 5 3]\n",
      " [9 2 4]]\n",
      "[[4 2 3]\n",
      " [7 9 1]\n",
      " [8 5 6]]\n",
      "[[9 6 1]\n",
      " [2 8 7]\n",
      " [3 4 5]]\n",
      "[[5 3 7]\n",
      " [4 1 9]\n",
      " [2 8 6]]\n",
      "[[2 8 4]\n",
      " [6 3 5]\n",
      " [1 7 9]]\n"
     ]
    }
   ],
   "source": [
    "for i in range(0,9,3):\n",
    "    for j in range(0,9,3):\n",
    "        print(s[i:i+3,j:j+3])"
   ]
  },
  {
   "cell_type": "markdown",
   "id": "7f7bbb1c",
   "metadata": {},
   "source": [
    "General Questions\n"
   ]
  },
  {
   "cell_type": "code",
   "execution_count": 56,
   "id": "924e5e81",
   "metadata": {},
   "outputs": [
    {
     "name": "stdout",
     "output_type": "stream",
     "text": [
      "45\n",
      "45\n",
      "45\n",
      "45\n",
      "45\n",
      "45\n",
      "45\n",
      "45\n",
      "45\n"
     ]
    }
   ],
   "source": [
    "for i in range(0,9,3):\n",
    "    for j in range(0,9,3):\n",
    "       n=s[i:i+3,j:j+3]\n",
    "       print(n.sum())"
   ]
  },
  {
   "cell_type": "markdown",
   "id": "68c348ab",
   "metadata": {},
   "source": [
    "2nd question "
   ]
  },
  {
   "cell_type": "code",
   "execution_count": 87,
   "id": "6eaffb70",
   "metadata": {},
   "outputs": [],
   "source": [
    "import numpy as np\n",
    "\n",
    "# Columns: [Age, Math Marks, Science Marks]\n",
    "data = np.array([\n",
    "    [18, 85, 78],   # Student 1\n",
    "    [19, 92, 88],   # Student 2\n",
    "    [17, 76, 95],   # Student 3\n",
    "    [18, 65, 70],   # Student 4\n",
    "    [20, 90, 85]    # Student 5\n",
    "])"
   ]
  },
  {
   "cell_type": "markdown",
   "id": "1c0ba449",
   "metadata": {},
   "source": [
    "#Get the shape of the matrix."
   ]
  },
  {
   "cell_type": "code",
   "execution_count": 58,
   "id": "47985884",
   "metadata": {},
   "outputs": [
    {
     "data": {
      "text/plain": [
       "(5, 3)"
      ]
     },
     "execution_count": 58,
     "metadata": {},
     "output_type": "execute_result"
    }
   ],
   "source": [
    "data.shape"
   ]
  },
  {
   "cell_type": "markdown",
   "id": "1d7a6af1",
   "metadata": {},
   "source": [
    "find the average age of student"
   ]
  },
  {
   "cell_type": "code",
   "execution_count": 61,
   "id": "b6761961",
   "metadata": {},
   "outputs": [
    {
     "data": {
      "text/plain": [
       "np.float64(18.4)"
      ]
     },
     "execution_count": 61,
     "metadata": {},
     "output_type": "execute_result"
    }
   ],
   "source": [
    "np.mean(data[:,0])"
   ]
  },
  {
   "cell_type": "markdown",
   "metadata": {},
   "source": [
    "#Extract Math marks of all students."
   ]
  },
  {
   "cell_type": "code",
   "execution_count": 62,
   "id": "60b66b2a",
   "metadata": {},
   "outputs": [
    {
     "data": {
      "text/plain": [
       "array([85, 92, 76, 65, 90])"
      ]
     },
     "execution_count": 62,
     "metadata": {},
     "output_type": "execute_result"
    }
   ],
   "source": [
    "data[:,1]"
   ]
  },
  {
   "cell_type": "markdown",
   "id": "078f0175",
   "metadata": {},
   "source": [
    "#Find the highest Science mark."
   ]
  },
  {
   "cell_type": "code",
   "execution_count": 64,
   "id": "e5b9829a",
   "metadata": {},
   "outputs": [
    {
     "data": {
      "text/plain": [
       "np.int64(95)"
      ]
     },
     "execution_count": 64,
     "metadata": {},
     "output_type": "execute_result"
    }
   ],
   "source": [
    "m=data[:,2]\n",
    "m.max()"
   ]
  },
  {
   "cell_type": "markdown",
   "id": "fba33ecf",
   "metadata": {},
   "source": [
    "#Get details of the student who scored more than 90 in Math."
   ]
  },
  {
   "cell_type": "code",
   "execution_count": 66,
   "id": "837ee8c9",
   "metadata": {},
   "outputs": [
    {
     "data": {
      "text/plain": [
       "array([[19, 92, 88]])"
      ]
     },
     "execution_count": 66,
     "metadata": {},
     "output_type": "execute_result"
    }
   ],
   "source": [
    "data[data[:,1]>90]"
   ]
  },
  {
   "cell_type": "code",
   "execution_count": null,
   "id": "838cdf5c",
   "metadata": {},
   "outputs": [],
   "source": []
  },
  {
   "cell_type": "markdown",
   "metadata": {},
   "source": [
    "#Increase Math marks of all students by 5."
   ]
  },
  {
   "cell_type": "code",
   "execution_count": 68,
   "id": "bec85cad",
   "metadata": {},
   "outputs": [
    {
     "data": {
      "text/plain": [
       "array([90, 97, 81, 70, 95])"
      ]
     },
     "execution_count": 68,
     "metadata": {},
     "output_type": "execute_result"
    }
   ],
   "source": [
    "data=data[:,1]+5\n",
    "data"
   ]
  },
  {
   "cell_type": "markdown",
   "id": "499ba579",
   "metadata": {},
   "source": [
    "#Find how many students are younger than 19."
   ]
  },
  {
   "cell_type": "code",
   "execution_count": 73,
   "id": "bd54108b",
   "metadata": {},
   "outputs": [
    {
     "data": {
      "text/plain": [
       "array([[18, 85, 78],\n",
       "       [19, 92, 88],\n",
       "       [17, 76, 95],\n",
       "       [18, 65, 70],\n",
       "       [20, 90, 85]])"
      ]
     },
     "execution_count": 73,
     "metadata": {},
     "output_type": "execute_result"
    }
   ],
   "source": [
    "data"
   ]
  },
  {
   "cell_type": "code",
   "execution_count": 77,
   "id": "dbbf1bbb",
   "metadata": {},
   "outputs": [
    {
     "data": {
      "text/plain": [
       "3"
      ]
     },
     "execution_count": 77,
     "metadata": {},
     "output_type": "execute_result"
    }
   ],
   "source": [
    "len(data[data[:,0] < 19])\n"
   ]
  },
  {
   "cell_type": "markdown",
   "id": "13e6a48f",
   "metadata": {},
   "source": [
    "#Calculate the average marks in each subject (column-wise mean)."
   ]
  },
  {
   "cell_type": "code",
   "execution_count": 79,
   "id": "64b45d4e",
   "metadata": {},
   "outputs": [
    {
     "data": {
      "text/plain": [
       "np.float64(81.6)"
      ]
     },
     "execution_count": 79,
     "metadata": {},
     "output_type": "execute_result"
    }
   ],
   "source": [
    "np.mean(data[:,1])"
   ]
  },
  {
   "cell_type": "code",
   "execution_count": 81,
   "id": "b91bac10",
   "metadata": {},
   "outputs": [
    {
     "data": {
      "text/plain": [
       "array([81.6, 83.2])"
      ]
     },
     "execution_count": 81,
     "metadata": {},
     "output_type": "execute_result"
    }
   ],
   "source": [
    "np.mean(data[:,1:],axis=0)"
   ]
  },
  {
   "cell_type": "code",
   "execution_count": null,
   "id": "872bb871",
   "metadata": {},
   "outputs": [],
   "source": []
  },
  {
   "cell_type": "markdown",
   "id": "6b16c518",
   "metadata": {},
   "source": [
    "\n",
    "#Get data of students who scored at least 80 in both subjects."
   ]
  },
  {
   "cell_type": "code",
   "execution_count": 83,
   "id": "e268721f",
   "metadata": {},
   "outputs": [
    {
     "data": {
      "text/plain": [
       "array([[19, 92, 88],\n",
       "       [20, 90, 85]])"
      ]
     },
     "execution_count": 83,
     "metadata": {},
     "output_type": "execute_result"
    }
   ],
   "source": [
    "data[(data[:,1] >=80) & (data[:,2]>=80)]"
   ]
  },
  {
   "cell_type": "code",
   "execution_count": null,
   "id": "9ae02174",
   "metadata": {},
   "outputs": [],
   "source": []
  },
  {
   "cell_type": "markdown",
   "id": "86f0901a",
   "metadata": {},
   "source": [
    "#Replace all Science marks < 75 with 0."
   ]
  },
  {
   "cell_type": "code",
   "execution_count": 88,
   "id": "cf49207e",
   "metadata": {},
   "outputs": [
    {
     "data": {
      "text/plain": [
       "array([[18, 85, 78],\n",
       "       [19, 92, 88],\n",
       "       [17, 76, 95],\n",
       "       [18, 65,  0],\n",
       "       [20, 90, 85]])"
      ]
     },
     "execution_count": 88,
     "metadata": {},
     "output_type": "execute_result"
    }
   ],
   "source": [
    "data[:,2][data[:,2]<75]=0\n",
    "data\n"
   ]
  },
  {
   "cell_type": "code",
   "execution_count": null,
   "id": "65953bd4",
   "metadata": {},
   "outputs": [],
   "source": []
  }
 ],
 "metadata": {
  "kernelspec": {
   "display_name": "base",
   "language": "python",
   "name": "python3"
  },
  "language_info": {
   "codemirror_mode": {
    "name": "ipython",
    "version": 3
   },
   "file_extension": ".py",
   "mimetype": "text/x-python",
   "name": "python",
   "nbconvert_exporter": "python",
   "pygments_lexer": "ipython3",
   "version": "3.13.5"
  }
 },
 "nbformat": 4,
 "nbformat_minor": 5
}
